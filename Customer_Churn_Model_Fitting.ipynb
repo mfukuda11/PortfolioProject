{
 "cells": [
  {
   "cell_type": "code",
   "execution_count": 5,
   "id": "93c2489f",
   "metadata": {},
   "outputs": [],
   "source": [
    "#import necessary libraries\n",
    "import pandas as pd\n",
    "import numpy as np\n",
    "from sklearn.model_selection import train_test_split\n",
    "from sklearn import preprocessing \n",
    "from sklearn.linear_model import LogisticRegression\n",
    "from sklearn.svm import SVC\n",
    "from sklearn.tree import DecisionTreeClassifier\n",
    "from sklearn.metrics import accuracy_score, precision_score, recall_score, f1_score, confusion_matrix, ConfusionMatrixDisplay\n",
    "from imblearn.over_sampling import RandomOverSampler, SMOTE, ADASYN\n",
    "\n",
    "from sklearn.model_selection import GridSearchCV, RandomizedSearchCV\n",
    "random_seed = 42\n",
    "np.random.seed(random_seed)"
   ]
  },
  {
   "cell_type": "markdown",
   "id": "08b3aae4",
   "metadata": {},
   "source": [
    "# Customer Churn Prediction in Iranian Telecom"
   ]
  },
  {
   "cell_type": "code",
   "execution_count": 6,
   "id": "cb76e98c",
   "metadata": {},
   "outputs": [
    {
     "data": {
      "text/html": [
       "<div>\n",
       "<style scoped>\n",
       "    .dataframe tbody tr th:only-of-type {\n",
       "        vertical-align: middle;\n",
       "    }\n",
       "\n",
       "    .dataframe tbody tr th {\n",
       "        vertical-align: top;\n",
       "    }\n",
       "\n",
       "    .dataframe thead th {\n",
       "        text-align: right;\n",
       "    }\n",
       "</style>\n",
       "<table border=\"1\" class=\"dataframe\">\n",
       "  <thead>\n",
       "    <tr style=\"text-align: right;\">\n",
       "      <th></th>\n",
       "      <th>CALL_FAILURE</th>\n",
       "      <th>COMPLAINS</th>\n",
       "      <th>SUBSCRIPTION_LENGTH</th>\n",
       "      <th>CHARGE_AMOUNT</th>\n",
       "      <th>FREQUENCY_OF_USE</th>\n",
       "      <th>FREQUENCY_OF_SMS</th>\n",
       "      <th>DISTINCT_CALLED_NUMBERS</th>\n",
       "      <th>TARIFF_PLAN</th>\n",
       "      <th>STATUS</th>\n",
       "      <th>AGE</th>\n",
       "      <th>CUSTOMER_VALUE</th>\n",
       "      <th>CHURN</th>\n",
       "    </tr>\n",
       "  </thead>\n",
       "  <tbody>\n",
       "    <tr>\n",
       "      <th>0</th>\n",
       "      <td>8</td>\n",
       "      <td>0</td>\n",
       "      <td>38</td>\n",
       "      <td>0</td>\n",
       "      <td>71</td>\n",
       "      <td>5</td>\n",
       "      <td>17</td>\n",
       "      <td>1</td>\n",
       "      <td>1</td>\n",
       "      <td>30</td>\n",
       "      <td>197.640</td>\n",
       "      <td>0</td>\n",
       "    </tr>\n",
       "    <tr>\n",
       "      <th>1</th>\n",
       "      <td>0</td>\n",
       "      <td>0</td>\n",
       "      <td>39</td>\n",
       "      <td>0</td>\n",
       "      <td>5</td>\n",
       "      <td>7</td>\n",
       "      <td>4</td>\n",
       "      <td>1</td>\n",
       "      <td>2</td>\n",
       "      <td>25</td>\n",
       "      <td>46.035</td>\n",
       "      <td>0</td>\n",
       "    </tr>\n",
       "    <tr>\n",
       "      <th>2</th>\n",
       "      <td>10</td>\n",
       "      <td>0</td>\n",
       "      <td>37</td>\n",
       "      <td>0</td>\n",
       "      <td>60</td>\n",
       "      <td>359</td>\n",
       "      <td>24</td>\n",
       "      <td>1</td>\n",
       "      <td>1</td>\n",
       "      <td>30</td>\n",
       "      <td>1536.520</td>\n",
       "      <td>0</td>\n",
       "    </tr>\n",
       "    <tr>\n",
       "      <th>3</th>\n",
       "      <td>10</td>\n",
       "      <td>0</td>\n",
       "      <td>38</td>\n",
       "      <td>0</td>\n",
       "      <td>66</td>\n",
       "      <td>1</td>\n",
       "      <td>35</td>\n",
       "      <td>1</td>\n",
       "      <td>1</td>\n",
       "      <td>15</td>\n",
       "      <td>240.020</td>\n",
       "      <td>0</td>\n",
       "    </tr>\n",
       "    <tr>\n",
       "      <th>4</th>\n",
       "      <td>3</td>\n",
       "      <td>0</td>\n",
       "      <td>38</td>\n",
       "      <td>0</td>\n",
       "      <td>58</td>\n",
       "      <td>2</td>\n",
       "      <td>33</td>\n",
       "      <td>1</td>\n",
       "      <td>1</td>\n",
       "      <td>15</td>\n",
       "      <td>145.805</td>\n",
       "      <td>0</td>\n",
       "    </tr>\n",
       "  </tbody>\n",
       "</table>\n",
       "</div>"
      ],
      "text/plain": [
       "   CALL_FAILURE  COMPLAINS  SUBSCRIPTION_LENGTH  CHARGE_AMOUNT  \\\n",
       "0             8          0                   38              0   \n",
       "1             0          0                   39              0   \n",
       "2            10          0                   37              0   \n",
       "3            10          0                   38              0   \n",
       "4             3          0                   38              0   \n",
       "\n",
       "   FREQUENCY_OF_USE  FREQUENCY_OF_SMS  DISTINCT_CALLED_NUMBERS  TARIFF_PLAN  \\\n",
       "0                71                 5                       17            1   \n",
       "1                 5                 7                        4            1   \n",
       "2                60               359                       24            1   \n",
       "3                66                 1                       35            1   \n",
       "4                58                 2                       33            1   \n",
       "\n",
       "   STATUS  AGE  CUSTOMER_VALUE  CHURN  \n",
       "0       1   30         197.640      0  \n",
       "1       2   25          46.035      0  \n",
       "2       1   30        1536.520      0  \n",
       "3       1   15         240.020      0  \n",
       "4       1   15         145.805      0  "
      ]
     },
     "execution_count": 6,
     "metadata": {},
     "output_type": "execute_result"
    }
   ],
   "source": [
    "# Load the data and show the first rows \n",
    "df = pd.read_csv('Customer_Churn_Pre.csv') \n",
    "df.head()"
   ]
  },
  {
   "cell_type": "code",
   "execution_count": 7,
   "id": "ef3f0d13",
   "metadata": {},
   "outputs": [
    {
     "data": {
      "text/plain": [
       "array([[<Axes: title={'center': 'CALL_FAILURE'}>,\n",
       "        <Axes: title={'center': 'COMPLAINS'}>,\n",
       "        <Axes: title={'center': 'SUBSCRIPTION_LENGTH'}>],\n",
       "       [<Axes: title={'center': 'CHARGE_AMOUNT'}>,\n",
       "        <Axes: title={'center': 'FREQUENCY_OF_USE'}>,\n",
       "        <Axes: title={'center': 'FREQUENCY_OF_SMS'}>],\n",
       "       [<Axes: title={'center': 'DISTINCT_CALLED_NUMBERS'}>,\n",
       "        <Axes: title={'center': 'TARIFF_PLAN'}>,\n",
       "        <Axes: title={'center': 'STATUS'}>],\n",
       "       [<Axes: title={'center': 'AGE'}>,\n",
       "        <Axes: title={'center': 'CUSTOMER_VALUE'}>,\n",
       "        <Axes: title={'center': 'CHURN'}>]], dtype=object)"
      ]
     },
     "execution_count": 7,
     "metadata": {},
     "output_type": "execute_result"
    },
    {
     "data": {
      "image/png": "[encoded data removed]",
      "text/plain": [
       "<Figure size 1000x1000 with 12 Axes>"
      ]
     },
     "metadata": {},
     "output_type": "display_data"
    }
   ],
   "source": [
    "#Check to see whether data is inbalanced \n",
    "df.hist(figsize=(10,10))"
   ]
  },
  {
   "cell_type": "markdown",
   "id": "c4ad9c08",
   "metadata": {},
   "source": [
    "As the hisograms above, this dataset includes imbalanced data. \n",
    "To adreess data imbalabnce, I'm going to use different sampling techniques to see which one works the best. \n",
    "\n",
    "Based on what I have observed from the data...\n",
    "Undersampling: As the minority group (1: Churn) has very less samples, I would be losing a lot of data from the majority group. So, I think this is not the best way for sampling for this dataset.   \n",
    "Oversampling: this resampling method might not perform the best as it can overfit by duplicating the existing data. \n",
    "\n",
    "Thus, I am going to compare both SMOTE or ADASYN and check which performs better. "
   ]
  },
  {
   "cell_type": "markdown",
   "id": "49b53ae4",
   "metadata": {},
   "source": [
    "## Address Data Imbalance "
   ]
  },
  {
   "cell_type": "code",
   "execution_count": 8,
   "id": "5d2628ea",
   "metadata": {},
   "outputs": [],
   "source": [
    "#Drop target column to predict the target \n",
    "features = df.drop(columns=['CHURN'])\n",
    "target = df['CHURN']\n",
    "\n",
    "# Split the data into validation and training set. As this dataset has about 3000 samples and I consider it as small dataset, I will be allocating 20% for test set. \n",
    "X_train, X_test, y_train, y_test = train_test_split(features, target, test_size=0.2, random_state=42)\n",
    "\n",
    "# create a standard scaler and fit it to the training set of predictors\n",
    "scaler = preprocessing.StandardScaler()\n",
    "scaler.fit(X_train)\n",
    "\n",
    "# Transform the predictors of training and validation sets\n",
    "X_train = scaler.transform(X_train) \n",
    "X_test = scaler.transform(X_test) "
   ]
  },
  {
   "cell_type": "code",
   "execution_count": 9,
   "id": "2cd95fe5",
   "metadata": {},
   "outputs": [],
   "source": [
    "# Perform SMOTE\n",
    "from imblearn.over_sampling import SMOTE\n",
    "\n",
    "smote = SMOTE(random_state=42)\n",
    "X_res, y_res = smote.fit_resample(X_train, y_train)"
   ]
  },
  {
   "cell_type": "code",
   "execution_count": 10,
   "id": "ca0bbbab",
   "metadata": {},
   "outputs": [],
   "source": [
    "def evaluate_classifier(desc, df, clf, X_test, y_test):\n",
    "    y_pred = clf.predict(X_test)\n",
    "    print(\"Accuracy:\", accuracy_score(y_test, clf.predict(X_test)))\n",
    "    print(\"Recall:\", recall_score(y_test, clf.predict(X_test)))\n",
    "    print(\"Precision:\", precision_score(y_test, clf.predict(X_test)))\n",
    "    print(\"f1-score:\", f1_score(y_test, clf.predict(X_test)))\n",
    "    df.loc[len(df.index)] = [desc,\n",
    "                             accuracy_score(y_test, clf.predict(X_test)),\n",
    "                             recall_score(y_test, clf.predict(X_test)),\n",
    "                             precision_score(y_test, clf.predict(X_test)),\n",
    "                             f1_score(y_test, clf.predict(X_test))]\n",
    "\n",
    "results = pd.DataFrame(columns=['Description', 'Accuracy', 'Recall', 'Precision', 'f1-score'])"
   ]
  },
  {
   "cell_type": "markdown",
   "id": "8e769e69",
   "metadata": {},
   "source": [
    "As this is classification prediction, I would like to start with logistics regression and decision tree. "
   ]
  },
  {
   "cell_type": "code",
   "execution_count": 11,
   "id": "d450363c",
   "metadata": {},
   "outputs": [
    {
     "name": "stdout",
     "output_type": "stream",
     "text": [
      "Accuracy: 0.8317460317460318\n",
      "Recall: 0.8181818181818182\n",
      "Precision: 0.5113636363636364\n",
      "f1-score: 0.6293706293706294\n"
     ]
    },
    {
     "data": {
      "text/html": [
       "<div>\n",
       "<style scoped>\n",
       "    .dataframe tbody tr th:only-of-type {\n",
       "        vertical-align: middle;\n",
       "    }\n",
       "\n",
       "    .dataframe tbody tr th {\n",
       "        vertical-align: top;\n",
       "    }\n",
       "\n",
       "    .dataframe thead th {\n",
       "        text-align: right;\n",
       "    }\n",
       "</style>\n",
       "<table border=\"1\" class=\"dataframe\">\n",
       "  <thead>\n",
       "    <tr style=\"text-align: right;\">\n",
       "      <th></th>\n",
       "      <th>Description</th>\n",
       "      <th>Accuracy</th>\n",
       "      <th>Recall</th>\n",
       "      <th>Precision</th>\n",
       "      <th>f1-score</th>\n",
       "    </tr>\n",
       "  </thead>\n",
       "  <tbody>\n",
       "    <tr>\n",
       "      <th>0</th>\n",
       "      <td>Logistic SMOTE</td>\n",
       "      <td>0.831746</td>\n",
       "      <td>0.818182</td>\n",
       "      <td>0.511364</td>\n",
       "      <td>0.629371</td>\n",
       "    </tr>\n",
       "  </tbody>\n",
       "</table>\n",
       "</div>"
      ],
      "text/plain": [
       "      Description  Accuracy    Recall  Precision  f1-score\n",
       "0  Logistic SMOTE  0.831746  0.818182   0.511364  0.629371"
      ]
     },
     "execution_count": 11,
     "metadata": {},
     "output_type": "execute_result"
    }
   ],
   "source": [
    "# Logistic Regression (resampling: SMOTE)\n",
    "clf_lr = LogisticRegression()\n",
    "clf_lr.fit(X_res, y_res)\n",
    "evaluate_classifier(\"Logistic SMOTE\", results, clf_lr, X_test, y_test)\n",
    "results"
   ]
  },
  {
   "cell_type": "code",
   "execution_count": 12,
   "id": "f676c904",
   "metadata": {},
   "outputs": [
    {
     "name": "stdout",
     "output_type": "stream",
     "text": [
      "Accuracy: 0.8507936507936508\n",
      "Recall: 0.8909090909090909\n",
      "Precision: 0.5444444444444444\n",
      "f1-score: 0.6758620689655171\n"
     ]
    },
    {
     "data": {
      "text/html": [
       "<div>\n",
       "<style scoped>\n",
       "    .dataframe tbody tr th:only-of-type {\n",
       "        vertical-align: middle;\n",
       "    }\n",
       "\n",
       "    .dataframe tbody tr th {\n",
       "        vertical-align: top;\n",
       "    }\n",
       "\n",
       "    .dataframe thead th {\n",
       "        text-align: right;\n",
       "    }\n",
       "</style>\n",
       "<table border=\"1\" class=\"dataframe\">\n",
       "  <thead>\n",
       "    <tr style=\"text-align: right;\">\n",
       "      <th></th>\n",
       "      <th>Description</th>\n",
       "      <th>Accuracy</th>\n",
       "      <th>Recall</th>\n",
       "      <th>Precision</th>\n",
       "      <th>f1-score</th>\n",
       "    </tr>\n",
       "  </thead>\n",
       "  <tbody>\n",
       "    <tr>\n",
       "      <th>0</th>\n",
       "      <td>Logistic SMOTE</td>\n",
       "      <td>0.831746</td>\n",
       "      <td>0.818182</td>\n",
       "      <td>0.511364</td>\n",
       "      <td>0.629371</td>\n",
       "    </tr>\n",
       "    <tr>\n",
       "      <th>1</th>\n",
       "      <td>SVM SMOTE</td>\n",
       "      <td>0.850794</td>\n",
       "      <td>0.890909</td>\n",
       "      <td>0.544444</td>\n",
       "      <td>0.675862</td>\n",
       "    </tr>\n",
       "  </tbody>\n",
       "</table>\n",
       "</div>"
      ],
      "text/plain": [
       "      Description  Accuracy    Recall  Precision  f1-score\n",
       "0  Logistic SMOTE  0.831746  0.818182   0.511364  0.629371\n",
       "1       SVM SMOTE  0.850794  0.890909   0.544444  0.675862"
      ]
     },
     "execution_count": 12,
     "metadata": {},
     "output_type": "execute_result"
    }
   ],
   "source": [
    "# SVM (resampling: SMOTE)\n",
    "clf_svm = SVC(kernel='rbf')\n",
    "clf_svm.fit(X_res, y_res)\n",
    "evaluate_classifier(\"SVM SMOTE\", results, clf_svm, X_test, y_test)\n",
    "results"
   ]
  },
  {
   "cell_type": "code",
   "execution_count": 13,
   "id": "8809f478",
   "metadata": {},
   "outputs": [
    {
     "name": "stdout",
     "output_type": "stream",
     "text": [
      "Accuracy: 0.9222222222222223\n",
      "Recall: 0.7818181818181819\n",
      "Precision: 0.7747747747747747\n",
      "f1-score: 0.7782805429864253\n"
     ]
    },
    {
     "data": {
      "text/html": [
       "<div>\n",
       "<style scoped>\n",
       "    .dataframe tbody tr th:only-of-type {\n",
       "        vertical-align: middle;\n",
       "    }\n",
       "\n",
       "    .dataframe tbody tr th {\n",
       "        vertical-align: top;\n",
       "    }\n",
       "\n",
       "    .dataframe thead th {\n",
       "        text-align: right;\n",
       "    }\n",
       "</style>\n",
       "<table border=\"1\" class=\"dataframe\">\n",
       "  <thead>\n",
       "    <tr style=\"text-align: right;\">\n",
       "      <th></th>\n",
       "      <th>Description</th>\n",
       "      <th>Accuracy</th>\n",
       "      <th>Recall</th>\n",
       "      <th>Precision</th>\n",
       "      <th>f1-score</th>\n",
       "    </tr>\n",
       "  </thead>\n",
       "  <tbody>\n",
       "    <tr>\n",
       "      <th>0</th>\n",
       "      <td>Logistic SMOTE</td>\n",
       "      <td>0.831746</td>\n",
       "      <td>0.818182</td>\n",
       "      <td>0.511364</td>\n",
       "      <td>0.629371</td>\n",
       "    </tr>\n",
       "    <tr>\n",
       "      <th>1</th>\n",
       "      <td>SVM SMOTE</td>\n",
       "      <td>0.850794</td>\n",
       "      <td>0.890909</td>\n",
       "      <td>0.544444</td>\n",
       "      <td>0.675862</td>\n",
       "    </tr>\n",
       "    <tr>\n",
       "      <th>2</th>\n",
       "      <td>DT SMOTE</td>\n",
       "      <td>0.922222</td>\n",
       "      <td>0.781818</td>\n",
       "      <td>0.774775</td>\n",
       "      <td>0.778281</td>\n",
       "    </tr>\n",
       "  </tbody>\n",
       "</table>\n",
       "</div>"
      ],
      "text/plain": [
       "      Description  Accuracy    Recall  Precision  f1-score\n",
       "0  Logistic SMOTE  0.831746  0.818182   0.511364  0.629371\n",
       "1       SVM SMOTE  0.850794  0.890909   0.544444  0.675862\n",
       "2        DT SMOTE  0.922222  0.781818   0.774775  0.778281"
      ]
     },
     "execution_count": 13,
     "metadata": {},
     "output_type": "execute_result"
    }
   ],
   "source": [
    "# Decision Tree (resampling: SMOTE)\n",
    "clf = DecisionTreeClassifier(random_state=42)\n",
    "clf.fit(X_res, y_res)\n",
    "evaluate_classifier(\"DT SMOTE\", results, clf, X_test, y_test)\n",
    "results"
   ]
  },
  {
   "cell_type": "code",
   "execution_count": 14,
   "id": "21049358",
   "metadata": {},
   "outputs": [],
   "source": [
    "# Code to perform ADASYN\n",
    "adasyn = ADASYN(random_state=42)\n",
    "X_res, y_res = adasyn.fit_resample(X_train, y_train)"
   ]
  },
  {
   "cell_type": "code",
   "execution_count": 15,
   "id": "c37ef050",
   "metadata": {},
   "outputs": [
    {
     "name": "stdout",
     "output_type": "stream",
     "text": [
      "Accuracy: 0.7825396825396825\n",
      "Recall: 0.8636363636363636\n",
      "Precision: 0.4377880184331797\n",
      "f1-score: 0.581039755351682\n"
     ]
    },
    {
     "data": {
      "text/html": [
       "<div>\n",
       "<style scoped>\n",
       "    .dataframe tbody tr th:only-of-type {\n",
       "        vertical-align: middle;\n",
       "    }\n",
       "\n",
       "    .dataframe tbody tr th {\n",
       "        vertical-align: top;\n",
       "    }\n",
       "\n",
       "    .dataframe thead th {\n",
       "        text-align: right;\n",
       "    }\n",
       "</style>\n",
       "<table border=\"1\" class=\"dataframe\">\n",
       "  <thead>\n",
       "    <tr style=\"text-align: right;\">\n",
       "      <th></th>\n",
       "      <th>Description</th>\n",
       "      <th>Accuracy</th>\n",
       "      <th>Recall</th>\n",
       "      <th>Precision</th>\n",
       "      <th>f1-score</th>\n",
       "    </tr>\n",
       "  </thead>\n",
       "  <tbody>\n",
       "    <tr>\n",
       "      <th>0</th>\n",
       "      <td>Logistic SMOTE</td>\n",
       "      <td>0.831746</td>\n",
       "      <td>0.818182</td>\n",
       "      <td>0.511364</td>\n",
       "      <td>0.629371</td>\n",
       "    </tr>\n",
       "    <tr>\n",
       "      <th>1</th>\n",
       "      <td>SVM SMOTE</td>\n",
       "      <td>0.850794</td>\n",
       "      <td>0.890909</td>\n",
       "      <td>0.544444</td>\n",
       "      <td>0.675862</td>\n",
       "    </tr>\n",
       "    <tr>\n",
       "      <th>2</th>\n",
       "      <td>DT SMOTE</td>\n",
       "      <td>0.922222</td>\n",
       "      <td>0.781818</td>\n",
       "      <td>0.774775</td>\n",
       "      <td>0.778281</td>\n",
       "    </tr>\n",
       "    <tr>\n",
       "      <th>3</th>\n",
       "      <td>Logistic ADASYN</td>\n",
       "      <td>0.782540</td>\n",
       "      <td>0.863636</td>\n",
       "      <td>0.437788</td>\n",
       "      <td>0.581040</td>\n",
       "    </tr>\n",
       "  </tbody>\n",
       "</table>\n",
       "</div>"
      ],
      "text/plain": [
       "       Description  Accuracy    Recall  Precision  f1-score\n",
       "0   Logistic SMOTE  0.831746  0.818182   0.511364  0.629371\n",
       "1        SVM SMOTE  0.850794  0.890909   0.544444  0.675862\n",
       "2         DT SMOTE  0.922222  0.781818   0.774775  0.778281\n",
       "3  Logistic ADASYN  0.782540  0.863636   0.437788  0.581040"
      ]
     },
     "execution_count": 15,
     "metadata": {},
     "output_type": "execute_result"
    }
   ],
   "source": [
    "# Logistic Regression (resampling: ADASYN)\n",
    "clf_lr = LogisticRegression()\n",
    "clf_lr.fit(X_res, y_res)\n",
    "evaluate_classifier(\"Logistic ADASYN\", results, clf_lr, X_test, y_test)\n",
    "results"
   ]
  },
  {
   "cell_type": "code",
   "execution_count": 16,
   "id": "646ef906",
   "metadata": {},
   "outputs": [
    {
     "name": "stdout",
     "output_type": "stream",
     "text": [
      "Accuracy: 0.8571428571428571\n",
      "Recall: 0.9727272727272728\n",
      "Precision: 0.5515463917525774\n",
      "f1-score: 0.7039473684210527\n"
     ]
    },
    {
     "data": {
      "text/html": [
       "<div>\n",
       "<style scoped>\n",
       "    .dataframe tbody tr th:only-of-type {\n",
       "        vertical-align: middle;\n",
       "    }\n",
       "\n",
       "    .dataframe tbody tr th {\n",
       "        vertical-align: top;\n",
       "    }\n",
       "\n",
       "    .dataframe thead th {\n",
       "        text-align: right;\n",
       "    }\n",
       "</style>\n",
       "<table border=\"1\" class=\"dataframe\">\n",
       "  <thead>\n",
       "    <tr style=\"text-align: right;\">\n",
       "      <th></th>\n",
       "      <th>Description</th>\n",
       "      <th>Accuracy</th>\n",
       "      <th>Recall</th>\n",
       "      <th>Precision</th>\n",
       "      <th>f1-score</th>\n",
       "    </tr>\n",
       "  </thead>\n",
       "  <tbody>\n",
       "    <tr>\n",
       "      <th>0</th>\n",
       "      <td>Logistic SMOTE</td>\n",
       "      <td>0.831746</td>\n",
       "      <td>0.818182</td>\n",
       "      <td>0.511364</td>\n",
       "      <td>0.629371</td>\n",
       "    </tr>\n",
       "    <tr>\n",
       "      <th>1</th>\n",
       "      <td>SVM SMOTE</td>\n",
       "      <td>0.850794</td>\n",
       "      <td>0.890909</td>\n",
       "      <td>0.544444</td>\n",
       "      <td>0.675862</td>\n",
       "    </tr>\n",
       "    <tr>\n",
       "      <th>2</th>\n",
       "      <td>DT SMOTE</td>\n",
       "      <td>0.922222</td>\n",
       "      <td>0.781818</td>\n",
       "      <td>0.774775</td>\n",
       "      <td>0.778281</td>\n",
       "    </tr>\n",
       "    <tr>\n",
       "      <th>3</th>\n",
       "      <td>Logistic ADASYN</td>\n",
       "      <td>0.782540</td>\n",
       "      <td>0.863636</td>\n",
       "      <td>0.437788</td>\n",
       "      <td>0.581040</td>\n",
       "    </tr>\n",
       "    <tr>\n",
       "      <th>4</th>\n",
       "      <td>SVM ADASYN</td>\n",
       "      <td>0.857143</td>\n",
       "      <td>0.972727</td>\n",
       "      <td>0.551546</td>\n",
       "      <td>0.703947</td>\n",
       "    </tr>\n",
       "  </tbody>\n",
       "</table>\n",
       "</div>"
      ],
      "text/plain": [
       "       Description  Accuracy    Recall  Precision  f1-score\n",
       "0   Logistic SMOTE  0.831746  0.818182   0.511364  0.629371\n",
       "1        SVM SMOTE  0.850794  0.890909   0.544444  0.675862\n",
       "2         DT SMOTE  0.922222  0.781818   0.774775  0.778281\n",
       "3  Logistic ADASYN  0.782540  0.863636   0.437788  0.581040\n",
       "4       SVM ADASYN  0.857143  0.972727   0.551546  0.703947"
      ]
     },
     "execution_count": 16,
     "metadata": {},
     "output_type": "execute_result"
    }
   ],
   "source": [
    "# SVM (resampling: ADASYN)\n",
    "clf_svm = SVC(kernel='rbf')\n",
    "clf_svm.fit(X_res, y_res)\n",
    "evaluate_classifier(\"SVM ADASYN\", results, clf_svm, X_test, y_test)\n",
    "results"
   ]
  },
  {
   "cell_type": "code",
   "execution_count": 17,
   "id": "db00c96f",
   "metadata": {},
   "outputs": [
    {
     "name": "stdout",
     "output_type": "stream",
     "text": [
      "Accuracy: 0.9142857142857143\n",
      "Recall: 0.7818181818181819\n",
      "Precision: 0.7413793103448276\n",
      "f1-score: 0.7610619469026548\n"
     ]
    },
    {
     "data": {
      "text/html": [
       "<div>\n",
       "<style scoped>\n",
       "    .dataframe tbody tr th:only-of-type {\n",
       "        vertical-align: middle;\n",
       "    }\n",
       "\n",
       "    .dataframe tbody tr th {\n",
       "        vertical-align: top;\n",
       "    }\n",
       "\n",
       "    .dataframe thead th {\n",
       "        text-align: right;\n",
       "    }\n",
       "</style>\n",
       "<table border=\"1\" class=\"dataframe\">\n",
       "  <thead>\n",
       "    <tr style=\"text-align: right;\">\n",
       "      <th></th>\n",
       "      <th>Description</th>\n",
       "      <th>Accuracy</th>\n",
       "      <th>Recall</th>\n",
       "      <th>Precision</th>\n",
       "      <th>f1-score</th>\n",
       "    </tr>\n",
       "  </thead>\n",
       "  <tbody>\n",
       "    <tr>\n",
       "      <th>0</th>\n",
       "      <td>Logistic SMOTE</td>\n",
       "      <td>0.831746</td>\n",
       "      <td>0.818182</td>\n",
       "      <td>0.511364</td>\n",
       "      <td>0.629371</td>\n",
       "    </tr>\n",
       "    <tr>\n",
       "      <th>1</th>\n",
       "      <td>SVM SMOTE</td>\n",
       "      <td>0.850794</td>\n",
       "      <td>0.890909</td>\n",
       "      <td>0.544444</td>\n",
       "      <td>0.675862</td>\n",
       "    </tr>\n",
       "    <tr>\n",
       "      <th>2</th>\n",
       "      <td>DT SMOTE</td>\n",
       "      <td>0.922222</td>\n",
       "      <td>0.781818</td>\n",
       "      <td>0.774775</td>\n",
       "      <td>0.778281</td>\n",
       "    </tr>\n",
       "    <tr>\n",
       "      <th>3</th>\n",
       "      <td>Logistic ADASYN</td>\n",
       "      <td>0.782540</td>\n",
       "      <td>0.863636</td>\n",
       "      <td>0.437788</td>\n",
       "      <td>0.581040</td>\n",
       "    </tr>\n",
       "    <tr>\n",
       "      <th>4</th>\n",
       "      <td>SVM ADASYN</td>\n",
       "      <td>0.857143</td>\n",
       "      <td>0.972727</td>\n",
       "      <td>0.551546</td>\n",
       "      <td>0.703947</td>\n",
       "    </tr>\n",
       "    <tr>\n",
       "      <th>5</th>\n",
       "      <td>DT ADASYN</td>\n",
       "      <td>0.914286</td>\n",
       "      <td>0.781818</td>\n",
       "      <td>0.741379</td>\n",
       "      <td>0.761062</td>\n",
       "    </tr>\n",
       "  </tbody>\n",
       "</table>\n",
       "</div>"
      ],
      "text/plain": [
       "       Description  Accuracy    Recall  Precision  f1-score\n",
       "0   Logistic SMOTE  0.831746  0.818182   0.511364  0.629371\n",
       "1        SVM SMOTE  0.850794  0.890909   0.544444  0.675862\n",
       "2         DT SMOTE  0.922222  0.781818   0.774775  0.778281\n",
       "3  Logistic ADASYN  0.782540  0.863636   0.437788  0.581040\n",
       "4       SVM ADASYN  0.857143  0.972727   0.551546  0.703947\n",
       "5        DT ADASYN  0.914286  0.781818   0.741379  0.761062"
      ]
     },
     "execution_count": 17,
     "metadata": {},
     "output_type": "execute_result"
    }
   ],
   "source": [
    "# Decision Tree (resampling: ADASYN)\n",
    "clf = DecisionTreeClassifier(random_state=42)\n",
    "clf.fit(X_res, y_res)\n",
    "evaluate_classifier(\"DT ADASYN\", results, clf, X_test, y_test)\n",
    "results"
   ]
  },
  {
   "cell_type": "markdown",
   "id": "63cfdb43",
   "metadata": {},
   "source": [
    "In this context, FN (predicted not churn and customer actually churned) will have more negative impact than FP (predicted churn and customer did not churn). I want to minimize the % of getting FN, so I will be interested in recall score than precision score. \n",
    "\n",
    "Comparing SMOTE and ADASYN, ADASYN has higher recall score than SMOTE. Therefore, I am using ADASYN to address data imbalance. "
   ]
  },
  {
   "cell_type": "markdown",
   "id": "ccfd4d72",
   "metadata": {},
   "source": [
    "# Grid and Random Search for Decision Tree"
   ]
  },
  {
   "cell_type": "markdown",
   "id": "676b24f9",
   "metadata": {},
   "source": [
    "I'm checking the decision tree with the default parameters, so I can compare with the model with hyperparameter tuned one. "
   ]
  },
  {
   "cell_type": "code",
   "execution_count": 18,
   "id": "0e1686a0",
   "metadata": {},
   "outputs": [],
   "source": [
    "#Create DT with default parameters\n",
    "dtree=DecisionTreeClassifier(random_state=random_seed)"
   ]
  },
  {
   "cell_type": "code",
   "execution_count": 19,
   "id": "6353c63a",
   "metadata": {},
   "outputs": [],
   "source": [
    "#Fit the model to resampled data \n",
    "_ = dtree.fit(X_res, y_res)"
   ]
  },
  {
   "cell_type": "code",
   "execution_count": 20,
   "id": "fb6b545c",
   "metadata": {},
   "outputs": [
    {
     "data": {
      "text/plain": [
       "{'ccp_alpha': 0.0,\n",
       " 'class_weight': None,\n",
       " 'criterion': 'gini',\n",
       " 'max_depth': None,\n",
       " 'max_features': None,\n",
       " 'max_leaf_nodes': None,\n",
       " 'min_impurity_decrease': 0.0,\n",
       " 'min_samples_leaf': 1,\n",
       " 'min_samples_split': 2,\n",
       " 'min_weight_fraction_leaf': 0.0,\n",
       " 'random_state': 42,\n",
       " 'splitter': 'best'}"
      ]
     },
     "execution_count": 20,
     "metadata": {},
     "output_type": "execute_result"
    }
   ],
   "source": [
    "dtree.get_params()"
   ]
  },
  {
   "cell_type": "code",
   "execution_count": 21,
   "id": "90aa5a08",
   "metadata": {},
   "outputs": [
    {
     "name": "stdout",
     "output_type": "stream",
     "text": [
      "18\n",
      "220\n"
     ]
    }
   ],
   "source": [
    "print(dtree.get_depth())\n",
    "print(dtree.get_n_leaves())"
   ]
  },
  {
   "cell_type": "code",
   "execution_count": 22,
   "id": "6e0da141",
   "metadata": {},
   "outputs": [
    {
     "name": "stdout",
     "output_type": "stream",
     "text": [
      "************************************\n",
      "Recall Score:     0.7818181818181819\n",
      "************************************\n",
      "Accuracy Score:   0.9142857142857143\n",
      "Precision Score:  0.7413793103448276\n",
      "F1 Score:         0.7610619469026548\n",
      "************************************\n"
     ]
    }
   ],
   "source": [
    "y_pred = dtree.predict(X_test)\n",
    "print(\"************************************\")\n",
    "print(f\"{'Recall Score:':18}{recall_score(y_test, y_pred)}\")\n",
    "print(\"************************************\")\n",
    "print(f\"{'Accuracy Score: ':18}{accuracy_score(y_test, y_pred)}\")\n",
    "print(f\"{'Precision Score: ':18}{precision_score(y_test, y_pred)}\")\n",
    "print(f\"{'F1 Score: ':18}{f1_score(y_test, y_pred)}\")\n",
    "print(\"************************************\")"
   ]
  },
  {
   "cell_type": "markdown",
   "id": "d30e7f96",
   "metadata": {},
   "source": [
    "## Random Search"
   ]
  },
  {
   "cell_type": "code",
   "execution_count": 23,
   "id": "e6cdc964",
   "metadata": {},
   "outputs": [],
   "source": [
    "# Criterion used to guide data splits\n",
    "criterion = ['gini', 'entropy', 'log_loss']\n",
    "\n",
    "# Maximum number of levels in tree. \n",
    "max_depth = [int(x) for x in np.linspace(1, 5000, 50)]\n",
    "max_depth.append(None)\n",
    "\n",
    "# Minimum number of samples required to split a node\n",
    "min_samples_split = [int(x) for x in np.linspace(2, 900, 50)]\n",
    "\n",
    "# Minimum number of samples required at each leaf node\n",
    "min_samples_leaf = [int(x) for x in np.linspace(1, 5000, 50)]\n",
    "\n",
    "# max_leaf_nodes  - Grow trees with max_leaf_nodes \n",
    "max_leaf_nodes = [int(x) for x in np.linspace(2, len(y_test), 50)]\n",
    "max_leaf_nodes.append(None)\n",
    "\n",
    "# min_impurity_decrease \n",
    "min_impurity_decrease = [x for x in np.arange(0.0, 0.01, 0.0001).round(5)]\n",
    "\n",
    "# Create the random grid\n",
    "param_grid_random = { 'criterion': criterion,\n",
    "                      'max_depth': max_depth,\n",
    "                      'min_samples_split': min_samples_split,\n",
    "                      'min_samples_leaf' : min_samples_leaf,\n",
    "                      'max_leaf_nodes' : max_leaf_nodes,\n",
    "                      'min_impurity_decrease' : min_impurity_decrease,\n",
    "                     }"
   ]
  },
  {
   "cell_type": "code",
   "execution_count": 24,
   "id": "dac48abe",
   "metadata": {},
   "outputs": [],
   "source": [
    "dtree_default = DecisionTreeClassifier(random_state=random_seed)\n",
    "\n",
    "best_random_search_model = RandomizedSearchCV(\n",
    "        estimator=DecisionTreeClassifier(random_state=random_seed), \n",
    "        scoring= 'accuracy',\n",
    "        param_distributions=param_grid_random, \n",
    "        n_iter = 5000, \n",
    "        cv=10, \n",
    "        verbose=0, \n",
    "        n_jobs = -1\n",
    "    )\n",
    "_ = best_random_search_model.fit(X_res, y_res)"
   ]
  },
  {
   "cell_type": "code",
   "execution_count": 25,
   "id": "89175beb",
   "metadata": {},
   "outputs": [
    {
     "name": "stdout",
     "output_type": "stream",
     "text": [
      "Best parameters found:  {'min_samples_split': 20, 'min_samples_leaf': 1, 'min_impurity_decrease': 0.0009, 'max_leaf_nodes': 463, 'max_depth': 3163, 'criterion': 'log_loss'}\n"
     ]
    }
   ],
   "source": [
    "random_search_best_params = best_random_search_model.best_params_\n",
    "print('Best parameters found: ', random_search_best_params)"
   ]
  },
  {
   "cell_type": "code",
   "execution_count": 26,
   "id": "30a29b60",
   "metadata": {},
   "outputs": [
    {
     "name": "stdout",
     "output_type": "stream",
     "text": [
      "************************************\n",
      "Recall Score:     0.8181818181818182\n",
      "************************************\n",
      "Accuracy Score:   0.9253968253968254\n",
      "Precision Score:  0.7692307692307693\n",
      "F1 Score:         0.7929515418502203\n",
      "************************************\n"
     ]
    }
   ],
   "source": [
    "#Evaluate performance\n",
    "y_pred = best_random_search_model.predict(X_test)\n",
    "print(\"************************************\")\n",
    "print(f\"{'Recall Score:':18}{recall_score(y_test, y_pred)}\")\n",
    "print(\"************************************\")\n",
    "print(f\"{'Accuracy Score: ':18}{accuracy_score(y_test, y_pred)}\")\n",
    "print(f\"{'Precision Score: ':18}{precision_score(y_test, y_pred)}\")\n",
    "print(f\"{'F1 Score: ':18}{f1_score(y_test, y_pred)}\")\n",
    "print(\"************************************\")"
   ]
  },
  {
   "cell_type": "markdown",
   "id": "af261aa8",
   "metadata": {},
   "source": [
    "## Grid Search"
   ]
  },
  {
   "cell_type": "code",
   "execution_count": 27,
   "id": "fef4da58",
   "metadata": {},
   "outputs": [
    {
     "data": {
      "text/plain": [
       "{'min_samples_split': 20,\n",
       " 'min_samples_leaf': 1,\n",
       " 'min_impurity_decrease': 0.0009,\n",
       " 'max_leaf_nodes': 463,\n",
       " 'max_depth': 3163,\n",
       " 'criterion': 'log_loss'}"
      ]
     },
     "execution_count": 27,
     "metadata": {},
     "output_type": "execute_result"
    }
   ],
   "source": [
    "#Taking the random search's best \n",
    "random_search_best_params"
   ]
  },
  {
   "cell_type": "code",
   "execution_count": 28,
   "id": "e78d5a31",
   "metadata": {},
   "outputs": [
    {
     "name": "stdout",
     "output_type": "stream",
     "text": [
      "Fitting 2 folds for each of 23625 candidates, totalling 47250 fits\n"
     ]
    }
   ],
   "source": [
    "#Conduct Grid search\n",
    "plus_minus = 15 # change this to 10-15 when doing a final run. this current value is for testing\n",
    "increment = 2\n",
    "\n",
    "param_grid = { 'min_samples_split': [x for x in range(random_search_best_params['min_samples_split']-plus_minus, random_search_best_params['min_samples_split']+plus_minus,2) if x >= 2],       \n",
    "              'min_samples_leaf': [x for x in range(random_search_best_params['min_samples_leaf']-plus_minus , random_search_best_params['min_samples_leaf']+plus_minus,2) if x > 0],\n",
    "             'min_impurity_decrease': [x for x in np.arange(random_search_best_params['min_impurity_decrease']-0.0001, random_search_best_params['min_impurity_decrease']+0.0001,.0005).round(5) if x >= 0.000],\n",
    "              'max_leaf_nodes':[x for x in range(random_search_best_params['max_leaf_nodes']-plus_minus , random_search_best_params['max_leaf_nodes']+plus_minus, 2) if x > 1],  \n",
    "              'max_depth': [x for x in range(random_search_best_params['max_depth']-plus_minus , random_search_best_params['max_depth']+plus_minus, 2) if x > 1],\n",
    "              'criterion': [random_search_best_params['criterion']]\n",
    "              }\n",
    "\n",
    "best_grid_search_model = GridSearchCV(estimator=DecisionTreeClassifier(random_state=random_seed), \n",
    "                                    scoring='accuracy', param_grid=param_grid, cv=2, verbose=1,  n_jobs = -1)\n",
    "_ = best_grid_search_model.fit(X_res, y_res)"
   ]
  },
  {
   "cell_type": "code",
   "execution_count": 29,
   "id": "08b8bb3d",
   "metadata": {},
   "outputs": [
    {
     "name": "stdout",
     "output_type": "stream",
     "text": [
      "Best parameters found:  {'criterion': 'log_loss', 'max_depth': 3148, 'max_leaf_nodes': 448, 'min_impurity_decrease': 0.0008, 'min_samples_leaf': 6, 'min_samples_split': 25}\n"
     ]
    }
   ],
   "source": [
    "#Print out best parameters found\n",
    "print('Best parameters found: ', best_grid_search_model.best_params_)"
   ]
  },
  {
   "cell_type": "code",
   "execution_count": 30,
   "id": "a71c0c39",
   "metadata": {},
   "outputs": [
    {
     "name": "stdout",
     "output_type": "stream",
     "text": [
      "************************************\n",
      "Recall Score:     0.8181818181818182\n",
      "************************************\n",
      "Accuracy Score:   0.9126984126984127\n",
      "Precision Score:  0.72\n",
      "F1 Score:         0.7659574468085107\n",
      "************************************\n"
     ]
    }
   ],
   "source": [
    "#Evaluate Performance\n",
    "y_pred = best_grid_search_model.predict(X_test)\n",
    "print(\"************************************\")\n",
    "print(f\"{'Recall Score:':18}{recall_score(y_test, y_pred)}\")\n",
    "print(\"************************************\")\n",
    "print(f\"{'Accuracy Score: ':18}{accuracy_score(y_test, y_pred)}\")\n",
    "print(f\"{'Precision Score: ':18}{precision_score(y_test, y_pred)}\")\n",
    "print(f\"{'F1 Score: ':18}{f1_score(y_test, y_pred)}\")\n",
    "print(\"************************************\")"
   ]
  },
  {
   "cell_type": "markdown",
   "id": "3eedec9c",
   "metadata": {},
   "source": [
    "# Grid and Random Searches for SVM"
   ]
  },
  {
   "cell_type": "markdown",
   "id": "e27ab3ba",
   "metadata": {},
   "source": [
    "I am using random and grid searches to test a range of parameter values for SVM. \n",
    "For hyperparameter grids, I am using C (Regularization strength), kernel and gamma. "
   ]
  },
  {
   "cell_type": "code",
   "execution_count": 31,
   "id": "6bbebfae",
   "metadata": {},
   "outputs": [],
   "source": [
    "from sklearn.model_selection import GridSearchCV\n",
    "from sklearn.svm import SVC"
   ]
  },
  {
   "cell_type": "markdown",
   "id": "b5957afe",
   "metadata": {},
   "source": [
    "## Random Search "
   ]
  },
  {
   "cell_type": "code",
   "execution_count": 32,
   "id": "39c35ed6",
   "metadata": {},
   "outputs": [],
   "source": [
    "# Create an SVM classifier\n",
    "svm_classifier = SVC()\n",
    "\n",
    "# Define hyperparameter for random search\n",
    "param_random = {\n",
    "    'C': [0.1, 1, 10],\n",
    "    'kernel': ['linear', 'rbf'],\n",
    "    'gamma': ['scale', 'auto'] + [0.1, 1, 10],\n",
    "}\n",
    "\n",
    "# Create a RandomizedSearchCV object\n",
    "random_search = RandomizedSearchCV(svm_classifier, param_distributions=param_random, cv=5, scoring='accuracy')\n",
    "\n",
    "# Fit the random search to your data\n",
    "random_search.fit(X_res, y_res)  # X_train and y_train are your training data\n",
    "\n",
    "# Get the best hyperparameters\n",
    "best_params = random_search.best_params_\n",
    "best_model = random_search.best_estimator_"
   ]
  },
  {
   "cell_type": "code",
   "execution_count": 33,
   "id": "bda0285a",
   "metadata": {},
   "outputs": [
    {
     "name": "stdout",
     "output_type": "stream",
     "text": [
      "SVC(C=10, gamma=0.1)\n"
     ]
    }
   ],
   "source": [
    "print(best_model)"
   ]
  },
  {
   "cell_type": "code",
   "execution_count": 34,
   "id": "5aaa1c7c",
   "metadata": {},
   "outputs": [
    {
     "name": "stdout",
     "output_type": "stream",
     "text": [
      "Accuracy: 0.90\n",
      "Recall Score: 0.96\n",
      "Precision Score: 0.64\n",
      "F1 Score: 0.77\n"
     ]
    }
   ],
   "source": [
    "# Make predictions using the best models\n",
    "y_pred_rand = best_model.predict(X_test)\n",
    "\n",
    "# Calculate accuracy , recall, precision, f1 scores\n",
    "accuracy_rand = accuracy_score(y_test, y_pred_rand)\n",
    "recall_rand = recall_score(y_test, y_pred_rand)\n",
    "precision_rand = precision_score(y_test, y_pred_rand)\n",
    "f1_rand = f1_score(y_test, y_pred_rand)\n",
    "\n",
    "print(f'Accuracy: {accuracy_rand:.2f}')\n",
    "print(f'Recall Score: {recall_rand:.2f}')\n",
    "print(f'Precision Score: {precision_rand:.2f}')\n",
    "print(f'F1 Score: {f1_rand:.2f}')"
   ]
  },
  {
   "cell_type": "markdown",
   "id": "3033e800",
   "metadata": {},
   "source": [
    "## Grid Search "
   ]
  },
  {
   "cell_type": "code",
   "execution_count": 35,
   "id": "77e96863",
   "metadata": {},
   "outputs": [
    {
     "name": "stdout",
     "output_type": "stream",
     "text": [
      "SVC(C=10, gamma=1)\n"
     ]
    }
   ],
   "source": [
    "# Create an SVM classifier\n",
    "svm_classifier = SVC()\n",
    "\n",
    "# Define hyperparameter grids for grid search and random search\n",
    "param_grid = {\n",
    "    'C': [0.1, 1, 10],\n",
    "    'kernel': ['linear', 'rbf'],\n",
    "    'gamma': ['scale', 'auto'] + [0.1, 1, 10],\n",
    "}\n",
    "\n",
    "# Perform grid search. Using 5-fold cross-validation. \n",
    "grid_search = GridSearchCV(svm_classifier, param_grid=param_grid, cv=5)\n",
    "grid_search.fit(X_res, y_res)\n",
    "best_svm_grid = grid_search.best_estimator_\n",
    "\n",
    "print(best_svm_grid)"
   ]
  },
  {
   "cell_type": "code",
   "execution_count": 36,
   "id": "2245d355",
   "metadata": {},
   "outputs": [
    {
     "name": "stdout",
     "output_type": "stream",
     "text": [
      "Accuracy: 0.93\n",
      "Recall Score: 0.85\n",
      "Precision Score: 0.76\n",
      "F1 Score: 0.80\n"
     ]
    }
   ],
   "source": [
    "# Make predictions using the best models\n",
    "y_pred_grid = best_svm_grid.predict(X_test)\n",
    "\n",
    "# Calculate accuracy , recall, precision, f1 scores\n",
    "accuracy_grid = accuracy_score(y_test, y_pred_grid)\n",
    "recall_grid = recall_score(y_test, y_pred_grid)\n",
    "precision_grid = precision_score(y_test, y_pred_grid)\n",
    "f1_grid = f1_score(y_test, y_pred_grid)\n",
    "\n",
    "print(f'Accuracy: {accuracy_grid:.2f}')\n",
    "print(f'Recall Score: {recall_grid:.2f}')\n",
    "print(f'Precision Score: {precision_grid:.2f}')\n",
    "print(f'F1 Score: {f1_grid:.2f}')"
   ]
  },
  {
   "cell_type": "markdown",
   "id": "a2aa7a1d",
   "metadata": {},
   "source": [
    "# Grid and Random Search for Logistic Regression "
   ]
  },
  {
   "cell_type": "markdown",
   "id": "bcaa0a4c",
   "metadata": {},
   "source": [
    "## Random Search "
   ]
  },
  {
   "cell_type": "code",
   "execution_count": null,
   "id": "653e7b07",
   "metadata": {},
   "outputs": [],
   "source": [
    "# Create a Logistic Regression model\n",
    "logistic_regression = LogisticRegression()\n",
    "\n",
    "# Define the hyperparameter for random search \n",
    "param_rand = {\n",
    "    'C': [0.01, 0.1, 1, 10],\n",
    "     'max_iter': [100, 200]\n",
    "}"
   ]
  },
  {
   "cell_type": "code",
   "execution_count": null,
   "id": "b63fec57",
   "metadata": {},
   "outputs": [],
   "source": [
    "# Create a RandomizedSearchCV object\n",
    "random_search = RandomizedSearchCV(logistic_regression, param_rand, n_iter = 8, cv=5, scoring='accuracy')\n",
    "\n",
    "# Fit the random search to your data\n",
    "random_search.fit(X_res, y_res)  # X_train and y_train are your training data\n",
    "\n",
    "# Get the best hyperparameters\n",
    "best_params = random_search.best_params_\n",
    "best_model = random_search.best_estimator_"
   ]
  },
  {
   "cell_type": "code",
   "execution_count": null,
   "id": "0efd4cd7",
   "metadata": {},
   "outputs": [],
   "source": [
    "# Make predictions using the best models\n",
    "y_pred_rand = best_model.predict(X_test)\n",
    "\n",
    "# Calculate accuracy scores\n",
    "accuracy_rand = accuracy_score(y_test, y_pred_rand)\n",
    "recall_rand = recall_score(y_test, y_pred_rand)\n",
    "precision_rand = precision_score(y_test, y_pred_rand)\n",
    "f1_rand = f1_score(y_test, y_pred_rand)\n",
    "\n",
    "print(f'Accuracy: {accuracy_rand:.2f}')\n",
    "print(f'Recall Score: {recall_rand:.2f}')\n",
    "print(f'Precision Score: {precision_rand:.2f}')\n",
    "print(f'F1 Score: {f1_rand:.2f}')"
   ]
  },
  {
   "cell_type": "markdown",
   "id": "9e4eebbf",
   "metadata": {},
   "source": [
    "## Grid Search "
   ]
  },
  {
   "cell_type": "code",
   "execution_count": null,
   "id": "a6cbb471",
   "metadata": {},
   "outputs": [],
   "source": [
    "# Create a Logistic Regression model\n",
    "logistic_regression = LogisticRegression()\n",
    "\n",
    "# Define the hyperparameter grid\n",
    "param_grid = {\n",
    "    'C': [0.01, 0.1, 1, 10],\n",
    "    'max_iter': [100, 200]\n",
    "}\n",
    "\n",
    "# Create a GridSearchCV object\n",
    "grid_search = GridSearchCV(logistic_regression, param_grid, cv=5, scoring='accuracy')\n",
    "\n",
    "# Fit the grid search to your data\n",
    "grid_search.fit(X_res, y_res)  # X_train and y_train are your training data\n",
    "\n",
    "# Get the best hyperparameters\n",
    "best_params = grid_search.best_params_\n",
    "best_model = grid_search.best_estimator_"
   ]
  },
  {
   "cell_type": "code",
   "execution_count": null,
   "id": "f4306354",
   "metadata": {},
   "outputs": [],
   "source": [
    "# print best parameter after tuning \n",
    "print(best_params) \n",
    "\n",
    "# print how our model looks after hyper-parameter tuning \n",
    "print(best_model) "
   ]
  },
  {
   "cell_type": "code",
   "execution_count": null,
   "id": "3b9c6f59",
   "metadata": {},
   "outputs": [],
   "source": [
    "# Make predictions using the best models\n",
    "y_pred_grid = best_model.predict(X_test)\n",
    "\n",
    "# Calculate accuracy scores\n",
    "accuracy_grid = accuracy_score(y_test, y_pred_grid)\n",
    "recall_grid = recall_score(y_test, y_pred_grid)\n",
    "precision_grid = precision_score(y_test, y_pred_grid)\n",
    "f1_grid = f1_score(y_test, y_pred_grid)\n",
    "\n",
    "print(f'Accuracy: {accuracy_grid:.2f}')\n",
    "print(f'Recall Score: {recall_grid:.2f}')\n",
    "print(f'Precision Score: {precision_grid:.2f}')\n",
    "print(f'F1 Score: {f1_grid:.2f}')"
   ]
  },
  {
   "cell_type": "markdown",
   "id": "96edb6aa",
   "metadata": {},
   "source": [
    "# Random Forest "
   ]
  },
  {
   "cell_type": "code",
   "execution_count": null,
   "id": "12dbbbb3",
   "metadata": {},
   "outputs": [],
   "source": [
    "from sklearn.ensemble import RandomForestClassifier"
   ]
  },
  {
   "cell_type": "code",
   "execution_count": null,
   "id": "7d1b5169",
   "metadata": {},
   "outputs": [],
   "source": [
    "rforest = RandomForestClassifier()"
   ]
  },
  {
   "cell_type": "code",
   "execution_count": null,
   "id": "24544292",
   "metadata": {},
   "outputs": [],
   "source": [
    "_ = rforest.fit(X_res, y_res)"
   ]
  },
  {
   "cell_type": "code",
   "execution_count": null,
   "id": "b9b483c6",
   "metadata": {},
   "outputs": [],
   "source": [
    "y_pred = rforest.predict(X_test)"
   ]
  },
  {
   "cell_type": "code",
   "execution_count": null,
   "id": "9da82d4b",
   "metadata": {},
   "outputs": [],
   "source": [
    "print(f\"{'Model':^18}{'Score':^18}\")\n",
    "print(\"************************************\")\n",
    "print(f\"{'>> Recall Score:':18}{recall_score(y_test, y_pred)}\")\n",
    "print(f\"{'Accuracy Score: ':18}{accuracy_score(y_test, y_pred)}\")\n",
    "print(f\"{'Precision Score: ':18}{precision_score(y_test, y_pred)}\")\n",
    "print(f\"{'F1 Score: ':18}{f1_score(y_test, y_pred)}\")"
   ]
  },
  {
   "cell_type": "code",
   "execution_count": null,
   "id": "87b9b8ef",
   "metadata": {},
   "outputs": [],
   "source": [
    "rforest_recall = recall_score(y_test, y_pred)"
   ]
  },
  {
   "cell_type": "markdown",
   "id": "c4b08d11",
   "metadata": {},
   "source": [
    "# Save the model "
   ]
  },
  {
   "cell_type": "code",
   "execution_count": null,
   "id": "46cb24d8",
   "metadata": {},
   "outputs": [],
   "source": [
    "import pickle\n",
    "\n",
    "# Train your model (replace with your actual model)\n",
    "model = best_svm_grid\n",
    "\n",
    "# Save the model to a file\n",
    "with open('model_customer_churn.pkl', 'wb') as file:\n",
    "    pickle.dump(model, file)"
   ]
  },
  {
   "cell_type": "markdown",
   "id": "a82021ae",
   "metadata": {},
   "source": [
    "# Analysis"
   ]
  },
  {
   "cell_type": "markdown",
   "id": "e4854103",
   "metadata": {},
   "source": [
    "My goal for this project was to predict customer churn based on the customers' information. \n",
    "\n",
    "I have used ADASYN to perform resampling on the imbalanced datset. After that I did grid and random serach on Decision Tree, SVM, and Logistic Regression. I compared the results based on accuracy and recall score as recall score was the critical number in the business context. I wanted to minimize getting false negative so the comapny would not miss the opportunity to discuss with customers about any concerns they might have before they possibly churn. As a business, keeping the existing customer happy is very important so that the business stays successful. I have attached the resluts of each models. \n",
    "\n",
    "The summary performance:  "
   ]
  },
  {
   "cell_type": "markdown",
   "id": "9c343e19",
   "metadata": {},
   "source": [
    "| Scores              | Decision Tree Random | Decision Tree Grid | SVM Random | SVM Grid | Logistic Random | Logistic Grid | \n",
    "| :---------------- | :------: | :----: | :----: |  :----: | :----: | ----: | \n",
    "| Accuracy Score       |    0.9253968253968254  | 0.9126984126984127 | 0.93 | 0.93 | 0.81 | 0.81 |\n",
    "| Recall Score           |  0.8181818181818182  | 0.8181818181818182 | 0.85 | 0.85 | 0.87 | 0.87 |\n",
    "| Precision Score  |  0.7692307692307693   | 0.72 | 0.19 | 0.76 | 0.47 | 0.47 |\n",
    "| F1 Score |  0.7929515418502203  | 0.7659574468085107 | 0.23 | 0.80 | 0.61 | 0.61|"
   ]
  },
  {
   "cell_type": "markdown",
   "id": "a142ec46",
   "metadata": {},
   "source": [
    "To conclude, the best performing model that I have found from this project is SVM Grid Search as it has the highest accuracy and relatively high recall score. I beleive that SVM Grid Search model will help businesses identify which customers are likely to churn. I would still want to keep working on improving recall to around 90% so I can minimize getting FN from the model. "
   ]
  }
 ],
 "metadata": {
  "kernelspec": {
   "display_name": "Python 3 (ipykernel)",
   "language": "python",
   "name": "python3"
  },
  "language_info": {
   "codemirror_mode": {
    "name": "ipython",
    "version": 3
   },
   "file_extension": ".py",
   "mimetype": "text/x-python",
   "name": "python",
   "nbconvert_exporter": "python",
   "pygments_lexer": "ipython3",
   "version": "3.11.4"
  }
 },
 "nbformat": 4,
 "nbformat_minor": 5
}
